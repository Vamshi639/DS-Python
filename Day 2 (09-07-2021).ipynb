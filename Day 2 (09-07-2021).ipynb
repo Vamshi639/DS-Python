{
 "cells": [
  {
   "cell_type": "code",
   "execution_count": 1,
   "id": "648f2527",
   "metadata": {},
   "outputs": [
    {
     "name": "stdout",
     "output_type": "stream",
     "text": [
      "Hello World\n"
     ]
    }
   ],
   "source": [
    "print('Hello World')"
   ]
  },
  {
   "cell_type": "code",
   "execution_count": 2,
   "id": "adc56eb7",
   "metadata": {},
   "outputs": [
    {
     "name": "stdout",
     "output_type": "stream",
     "text": [
      "Python Programming\n",
      "Easy Learning\n"
     ]
    }
   ],
   "source": [
    "print('Python Programming')\n",
    "print('Easy Learning')"
   ]
  },
  {
   "cell_type": "code",
   "execution_count": 5,
   "id": "e2cb72af",
   "metadata": {},
   "outputs": [
    {
     "name": "stdout",
     "output_type": "stream",
     "text": [
      "Python Programming Easy Learning\n"
     ]
    }
   ],
   "source": [
    "#printing the 2 lines using end=' '\n",
    "print('Python Programming',end=' ')\n",
    "print('Easy Learning')"
   ]
  },
  {
   "cell_type": "code",
   "execution_count": 6,
   "id": "32fba3ad",
   "metadata": {},
   "outputs": [
    {
     "name": "stdout",
     "output_type": "stream",
     "text": [
      "Python Programming || Easy Learning\n"
     ]
    }
   ],
   "source": [
    "#printing the 2 lines using end=' || '\n",
    "print('Python Programming',end=' || ')\n",
    "print('Easy Learning')"
   ]
  },
  {
   "cell_type": "code",
   "execution_count": 7,
   "id": "7146465c",
   "metadata": {},
   "outputs": [
    {
     "name": "stdout",
     "output_type": "stream",
     "text": [
      "Python Programming Easy Learning\n"
     ]
    }
   ],
   "source": [
    "#printing the 2 lines using comma\n",
    "print('Python Programming','Easy Learning')"
   ]
  },
  {
   "cell_type": "code",
   "execution_count": 8,
   "id": "9833c761",
   "metadata": {},
   "outputs": [
    {
     "name": "stdout",
     "output_type": "stream",
     "text": [
      "Python Programming,Easy Learning\n"
     ]
    }
   ],
   "source": [
    "#printing the 2 lines using plus\n",
    "print('Python Programming,'+'Easy Learning')"
   ]
  },
  {
   "cell_type": "code",
   "execution_count": 12,
   "id": "d342937c",
   "metadata": {},
   "outputs": [
    {
     "name": "stdout",
     "output_type": "stream",
     "text": [
      "\n",
      "Python Programming\n",
      "Python Programming\n",
      "Python Programming\n",
      "Python Programming\n",
      "Python Programming\n"
     ]
    }
   ],
   "source": [
    "print(5 *'\\nPython Programming')"
   ]
  },
  {
   "cell_type": "markdown",
   "id": "7a650ba7",
   "metadata": {},
   "source": [
    "# Variables"
   ]
  },
  {
   "cell_type": "code",
   "execution_count": 16,
   "id": "34bc3b74",
   "metadata": {},
   "outputs": [
    {
     "name": "stdout",
     "output_type": "stream",
     "text": [
      "123456\n",
      "<class 'int'>\n"
     ]
    }
   ],
   "source": [
    "x=123456\n",
    "print(x)\n",
    "print(type(x))"
   ]
  },
  {
   "cell_type": "code",
   "execution_count": 18,
   "id": "9c13d905",
   "metadata": {},
   "outputs": [
    {
     "name": "stdout",
     "output_type": "stream",
     "text": [
      "874926563427562845 <class 'int'>\n"
     ]
    }
   ],
   "source": [
    "x2=874926563427562845\n",
    "print(x2,type(x2))"
   ]
  },
  {
   "cell_type": "code",
   "execution_count": 19,
   "id": "30bf4e2a",
   "metadata": {},
   "outputs": [
    {
     "name": "stdout",
     "output_type": "stream",
     "text": [
      "123.543 <class 'float'>\n"
     ]
    }
   ],
   "source": [
    "a=123.543\n",
    "print(a,type(a))"
   ]
  },
  {
   "cell_type": "code",
   "execution_count": 20,
   "id": "9af65998",
   "metadata": {},
   "outputs": [
    {
     "name": "stdout",
     "output_type": "stream",
     "text": [
      "vamshi <class 'str'>\n"
     ]
    }
   ],
   "source": [
    "a='vamshi'\n",
    "print(a,type(a))"
   ]
  },
  {
   "cell_type": "code",
   "execution_count": 21,
   "id": "9c62d316",
   "metadata": {},
   "outputs": [
    {
     "name": "stdout",
     "output_type": "stream",
     "text": [
      "hello vamshi <class 'str'>\n"
     ]
    }
   ],
   "source": [
    "b='hello vamshi'\n",
    "print(b,type(b))"
   ]
  },
  {
   "cell_type": "code",
   "execution_count": 22,
   "id": "35c217c9",
   "metadata": {},
   "outputs": [
    {
     "name": "stdout",
     "output_type": "stream",
     "text": [
      "vamshi <class 'str'>\n"
     ]
    }
   ],
   "source": [
    "a=\"vamshi\"\n",
    "print(a,type(a))"
   ]
  },
  {
   "cell_type": "code",
   "execution_count": 23,
   "id": "24ba9813",
   "metadata": {},
   "outputs": [
    {
     "name": "stdout",
     "output_type": "stream",
     "text": [
      "hello vamshi <class 'str'>\n"
     ]
    }
   ],
   "source": [
    "b=\"hello vamshi\"\n",
    "print(b,type(b))"
   ]
  },
  {
   "cell_type": "code",
   "execution_count": 24,
   "id": "9175ac1e",
   "metadata": {},
   "outputs": [
    {
     "name": "stdout",
     "output_type": "stream",
     "text": [
      "True <class 'bool'>\n"
     ]
    }
   ],
   "source": [
    "b1 = True\n",
    "print(b1,type(b1))"
   ]
  },
  {
   "cell_type": "code",
   "execution_count": 26,
   "id": "09fdddd5",
   "metadata": {},
   "outputs": [
    {
     "name": "stdout",
     "output_type": "stream",
     "text": [
      "False <class 'bool'>\n"
     ]
    }
   ],
   "source": [
    "b2 = False\n",
    "print(b2,type(b2))"
   ]
  },
  {
   "cell_type": "markdown",
   "id": "1dbb68a9",
   "metadata": {},
   "source": [
    "## Input Function in Python"
   ]
  },
  {
   "cell_type": "code",
   "execution_count": 29,
   "id": "54c61d58",
   "metadata": {},
   "outputs": [
    {
     "name": "stdout",
     "output_type": "stream",
     "text": [
      "Enter ur name : vamshi\n",
      "Your Name is vamshi\n"
     ]
    }
   ],
   "source": [
    "name= input('Enter ur name : ')\n",
    "print('Your Name is', name)"
   ]
  },
  {
   "cell_type": "code",
   "execution_count": 30,
   "id": "795fc78d",
   "metadata": {},
   "outputs": [
    {
     "name": "stdout",
     "output_type": "stream",
     "text": [
      "Enter ur name\n",
      "vamshi\n",
      "Your name is vamshi\n"
     ]
    }
   ],
   "source": [
    "print('Enter ur name')\n",
    "name=input()\n",
    "print('Your name is',name)"
   ]
  },
  {
   "cell_type": "code",
   "execution_count": 31,
   "id": "40a39fe8",
   "metadata": {},
   "outputs": [
    {
     "name": "stdout",
     "output_type": "stream",
     "text": [
      "vamshi\n",
      "Your name is vamshi\n"
     ]
    }
   ],
   "source": [
    "name=input()\n",
    "print('Your name is',name)"
   ]
  },
  {
   "cell_type": "code",
   "execution_count": 33,
   "id": "7fc826ae",
   "metadata": {},
   "outputs": [
    {
     "name": "stdout",
     "output_type": "stream",
     "text": [
      "3\n",
      "Your num is 3\n",
      "<class 'str'>\n",
      "Updated number is 3333333333\n"
     ]
    }
   ],
   "source": [
    "num=input()\n",
    "print('Your num is',num)\n",
    "print(type(num))\n",
    "num=num*10\n",
    "print('Updated number is',num)"
   ]
  },
  {
   "cell_type": "code",
   "execution_count": 34,
   "id": "d27f99f1",
   "metadata": {},
   "outputs": [
    {
     "name": "stdout",
     "output_type": "stream",
     "text": [
      "3\n",
      "Your num is 3\n",
      "<class 'int'>\n",
      "Updated number is 30\n"
     ]
    }
   ],
   "source": [
    "num=int(input())\n",
    "print('Your num is',num)\n",
    "print(type(num))\n",
    "num=num*10\n",
    "print('Updated number is',num)"
   ]
  },
  {
   "cell_type": "code",
   "execution_count": 37,
   "id": "21f7084a",
   "metadata": {},
   "outputs": [
    {
     "name": "stdout",
     "output_type": "stream",
     "text": [
      "3\n",
      "Your num is 3\n",
      "<class 'str'>\n",
      "After Converting\n",
      "<class 'int'>\n",
      "Updated number is 30\n"
     ]
    }
   ],
   "source": [
    "num=input()\n",
    "print('Your num is',num)\n",
    "print(type(num))\n",
    "print('After Converting')\n",
    "num=int(num)\n",
    "print(type(num))\n",
    "num=num*10\n",
    "print('Updated number is',num)"
   ]
  },
  {
   "cell_type": "code",
   "execution_count": 38,
   "id": "5cba57ad",
   "metadata": {},
   "outputs": [
    {
     "name": "stdout",
     "output_type": "stream",
     "text": [
      "<class 'bool'>\n",
      "<class 'str'>\n"
     ]
    }
   ],
   "source": [
    "# boolean to string\n",
    "a=True\n",
    "print(type(a))\n",
    "a=str(a)\n",
    "print(type(a))"
   ]
  },
  {
   "cell_type": "code",
   "execution_count": 39,
   "id": "ebadb50e",
   "metadata": {},
   "outputs": [
    {
     "name": "stdout",
     "output_type": "stream",
     "text": [
      "<class 'bool'>\n",
      "<class 'int'>\n",
      "1\n"
     ]
    }
   ],
   "source": [
    "#boolean to int\n",
    "n=True\n",
    "print(type(n))\n",
    "i=int(n)\n",
    "print(type(i))\n",
    "print(i)"
   ]
  },
  {
   "cell_type": "code",
   "execution_count": 40,
   "id": "b855d1da",
   "metadata": {},
   "outputs": [
    {
     "name": "stdout",
     "output_type": "stream",
     "text": [
      "<class 'bool'>\n",
      "<class 'float'>\n",
      "1.0\n"
     ]
    }
   ],
   "source": [
    "#boolean to float\n",
    "n=True\n",
    "print(type(n))\n",
    "i=float(n)\n",
    "print(type(i))\n",
    "print(i)"
   ]
  },
  {
   "cell_type": "markdown",
   "id": "5e49ee38",
   "metadata": {},
   "source": [
    "## Operators in Python"
   ]
  },
  {
   "cell_type": "code",
   "execution_count": 46,
   "id": "b388aff5",
   "metadata": {},
   "outputs": [
    {
     "name": "stdout",
     "output_type": "stream",
     "text": [
      "a+b 13\n",
      "a-b 7\n",
      "a*b 30\n",
      "a/b 3.3333333333333335\n",
      "a%b 1\n",
      "a**b 1000\n",
      "a//b 3\n"
     ]
    }
   ],
   "source": [
    "# Arthe operators\n",
    "a=10\n",
    "b=3\n",
    "print('a+b',a+b)\n",
    "print('a-b',a-b)\n",
    "print('a*b',a*b)\n",
    "print('a/b',a/b)\n",
    "print('a%b',a%b)\n",
    "print('a**b',a**b)\n",
    "print('a//b',a//b)"
   ]
  },
  {
   "cell_type": "code",
   "execution_count": 47,
   "id": "9275a963",
   "metadata": {},
   "outputs": [
    {
     "name": "stdout",
     "output_type": "stream",
     "text": [
      "a= 13 b= 3\n",
      "a= 10 b= 3\n",
      "a= 30 b= 3\n",
      "a= 10.0 b= 3\n",
      "a= 1.0 b= 3\n"
     ]
    }
   ],
   "source": [
    "#Arthe  and Assignment\n",
    "a=10\n",
    "b=3\n",
    "a+=b\n",
    "print('a=',a,'b=',b)\n",
    "a-=b\n",
    "print('a=',a,'b=',b)\n",
    "a*=b\n",
    "print('a=',a,'b=',b)\n",
    "a/=b\n",
    "print('a=',a,'b=',b)\n",
    "a%=b\n",
    "print('a=',a,'b=',b)"
   ]
  },
  {
   "cell_type": "code",
   "execution_count": 48,
   "id": "40400539",
   "metadata": {},
   "outputs": [
    {
     "data": {
      "text/plain": [
       "4.333"
      ]
     },
     "execution_count": 48,
     "metadata": {},
     "output_type": "execute_result"
    }
   ],
   "source": [
    "round(13/3, 3)"
   ]
  },
  {
   "cell_type": "code",
   "execution_count": 49,
   "id": "835c79a5",
   "metadata": {},
   "outputs": [
    {
     "name": "stdout",
     "output_type": "stream",
     "text": [
      "True\n"
     ]
    }
   ],
   "source": [
    "print(a<b)"
   ]
  },
  {
   "cell_type": "code",
   "execution_count": null,
   "id": "82d576f8",
   "metadata": {},
   "outputs": [],
   "source": []
  }
 ],
 "metadata": {
  "kernelspec": {
   "display_name": "Python 3",
   "language": "python",
   "name": "python3"
  },
  "language_info": {
   "codemirror_mode": {
    "name": "ipython",
    "version": 3
   },
   "file_extension": ".py",
   "mimetype": "text/x-python",
   "name": "python",
   "nbconvert_exporter": "python",
   "pygments_lexer": "ipython3",
   "version": "3.8.8"
  }
 },
 "nbformat": 4,
 "nbformat_minor": 5
}
