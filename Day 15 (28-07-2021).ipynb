{
 "cells": [
  {
   "cell_type": "markdown",
   "id": "19a4d56a",
   "metadata": {},
   "source": [
    "## File Handling in Pthon"
   ]
  },
  {
   "cell_type": "code",
   "execution_count": 8,
   "id": "5eac93e8",
   "metadata": {},
   "outputs": [
    {
     "name": "stdout",
     "output_type": "stream",
     "text": [
      "File is created successfully\n"
     ]
    }
   ],
   "source": [
    "# Create a file\n",
    "def create_file(filename):\n",
    "    f=open(filename,'w')\n",
    "    f.write(\"Hello There is some text present here\")\n",
    "    f.close()\n",
    "    print('File is created successfully')\n",
    "    return\n",
    "create_file('file1.txt')"
   ]
  },
  {
   "cell_type": "code",
   "execution_count": 2,
   "id": "c926f17f",
   "metadata": {},
   "outputs": [
    {
     "data": {
      "text/plain": [
       "'C:\\\\Users\\\\vamsh\\\\Vamshi DataScience\\\\Dhyanhitha'"
      ]
     },
     "execution_count": 2,
     "metadata": {},
     "output_type": "execute_result"
    }
   ],
   "source": [
    "pwd"
   ]
  },
  {
   "cell_type": "code",
   "execution_count": 13,
   "id": "33aaf275",
   "metadata": {},
   "outputs": [
    {
     "name": "stdout",
     "output_type": "stream",
     "text": [
      "File is created successfully\n"
     ]
    }
   ],
   "source": [
    "#Updated file\n",
    "def append_file(filename):\n",
    "    f=open(filename,'a')\n",
    "    for i in range(1,10):\n",
    "        f.write(\"This is {0} Line\\n\".format(i))\n",
    "    f.close()\n",
    "    print('File is created successfully')\n",
    "    return\n",
    "append_file('file2.txt')"
   ]
  },
  {
   "cell_type": "code",
   "execution_count": 17,
   "id": "27a7eeaa",
   "metadata": {},
   "outputs": [
    {
     "name": "stdout",
     "output_type": "stream",
     "text": [
      "This is 1 Line\n",
      "This is 2 Line\n",
      "This is 3 Line\n",
      "This is 4 Line\n",
      "This is 5 Line\n",
      "This is 6 Line\n",
      "This is 7 Line\n",
      "This is 8 Line\n",
      "This is 9 Line\n",
      "\n"
     ]
    }
   ],
   "source": [
    "# read file data\n",
    "def read_file(filename):\n",
    "    with open(filename,'r') as f:\n",
    "        if f.mode=='r':\n",
    "            out=f.read()\n",
    "            print(out)\n",
    "    return\n",
    "read_file('file2.txt')"
   ]
  },
  {
   "cell_type": "code",
   "execution_count": 19,
   "id": "439ac2e7",
   "metadata": {},
   "outputs": [
    {
     "data": {
      "text/plain": [
       "11"
      ]
     },
     "execution_count": 19,
     "metadata": {},
     "output_type": "execute_result"
    }
   ],
   "source": [
    "##count of words in a file\n",
    "def wordcount(filename):\n",
    "    li=[]\n",
    "    with open(filename,'r') as f:\n",
    "        if f.mode=='r':\n",
    "            x=f.read()\n",
    "            li=x.split()\n",
    "    return len(li)\n",
    "wordcount('file1.txt')"
   ]
  },
  {
   "cell_type": "code",
   "execution_count": 30,
   "id": "3354a234",
   "metadata": {},
   "outputs": [
    {
     "name": "stdout",
     "output_type": "stream",
     "text": [
      "Line\n"
     ]
    },
    {
     "data": {
      "text/plain": [
       "9"
      ]
     },
     "execution_count": 30,
     "metadata": {},
     "output_type": "execute_result"
    }
   ],
   "source": [
    "def selectedword(filename):\n",
    "    with open(filename,'r') as f:\n",
    "        if f.mode=='r':\n",
    "            x=f.read()\n",
    "            li=x.split()\n",
    "            str=input()\n",
    "            count=0\n",
    "            for i in range(len(li)):\n",
    "                if li[i]==str:\n",
    "                    count+=1\n",
    "        return count\n",
    "selectedword('file2.txt')"
   ]
  },
  {
   "cell_type": "code",
   "execution_count": 31,
   "id": "a68adaa8",
   "metadata": {},
   "outputs": [
    {
     "data": {
      "text/plain": [
       "135"
      ]
     },
     "execution_count": 31,
     "metadata": {},
     "output_type": "execute_result"
    }
   ],
   "source": [
    "##character count\n",
    "def charcount(filename):\n",
    "    li=[]\n",
    "    with open(filename,'r') as f:\n",
    "        if f.mode=='r':\n",
    "            x=f.read()\n",
    "            li=list(x)\n",
    "        f.close()\n",
    "    return len(li)\n",
    "charcount('file2.txt')"
   ]
  },
  {
   "cell_type": "code",
   "execution_count": 32,
   "id": "410c0e1b",
   "metadata": {},
   "outputs": [
    {
     "data": {
      "text/plain": [
       "10"
      ]
     },
     "execution_count": 32,
     "metadata": {},
     "output_type": "execute_result"
    }
   ],
   "source": [
    "## count the lines in file\n",
    "def countlines(filename):\n",
    "    li=[]\n",
    "    with open(filename,'r') as f:\n",
    "        if f.mode=='r':\n",
    "            x=f.read()\n",
    "            li=x.split(\"\\n\")\n",
    "        f.close()\n",
    "    return len(li)\n",
    "countlines('file2.txt')"
   ]
  },
  {
   "cell_type": "code",
   "execution_count": 33,
   "id": "7b75a47b",
   "metadata": {},
   "outputs": [
    {
     "data": {
      "text/plain": [
       "1"
      ]
     },
     "execution_count": 33,
     "metadata": {},
     "output_type": "execute_result"
    }
   ],
   "source": [
    "countlines('file1.txt')"
   ]
  },
  {
   "cell_type": "code",
   "execution_count": 44,
   "id": "f19f3a55",
   "metadata": {},
   "outputs": [
    {
     "data": {
      "text/plain": [
       "'Upper: 3 Lower: 47'"
      ]
     },
     "execution_count": 44,
     "metadata": {},
     "output_type": "execute_result"
    }
   ],
   "source": [
    "def char_count_lower_upper(file_name):\n",
    "  l_count,u_count=0,0\n",
    "  with open(file_name,'r') as f:\n",
    "    x = f.read()\n",
    "    li=list(x)\n",
    "  for i in li:\n",
    "    if i.isupper():\n",
    "      u_count+=1\n",
    "    elif i.islower():\n",
    "      l_count+=1\n",
    "  output = 'Upper: {0} Lower: {1}'.format(u_count,l_count)\n",
    "  return output\n",
    "char_count_lower_upper('file1.txt')"
   ]
  },
  {
   "cell_type": "code",
   "execution_count": null,
   "id": "34872c37",
   "metadata": {},
   "outputs": [],
   "source": []
  }
 ],
 "metadata": {
  "kernelspec": {
   "display_name": "Python 3",
   "language": "python",
   "name": "python3"
  },
  "language_info": {
   "codemirror_mode": {
    "name": "ipython",
    "version": 3
   },
   "file_extension": ".py",
   "mimetype": "text/x-python",
   "name": "python",
   "nbconvert_exporter": "python",
   "pygments_lexer": "ipython3",
   "version": "3.8.8"
  }
 },
 "nbformat": 4,
 "nbformat_minor": 5
}
