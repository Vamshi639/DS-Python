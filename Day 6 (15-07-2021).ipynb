{
 "cells": [
  {
   "cell_type": "markdown",
   "id": "fe3b59e6",
   "metadata": {},
   "source": [
    "## For loop & Functions in Python"
   ]
  },
  {
   "cell_type": "code",
   "execution_count": 1,
   "id": "41848f66",
   "metadata": {},
   "outputs": [
    {
     "data": {
      "text/plain": [
       "range(0, 10)"
      ]
     },
     "execution_count": 1,
     "metadata": {},
     "output_type": "execute_result"
    }
   ],
   "source": [
    "range(10)"
   ]
  },
  {
   "cell_type": "code",
   "execution_count": 2,
   "id": "3751e5e6",
   "metadata": {},
   "outputs": [
    {
     "name": "stdout",
     "output_type": "stream",
     "text": [
      "0 1 2 3 4 5 6 7 8 9 "
     ]
    }
   ],
   "source": [
    "for i in range(10):\n",
    "    print(i,end=' ')"
   ]
  },
  {
   "cell_type": "code",
   "execution_count": 4,
   "id": "0c921b05",
   "metadata": {},
   "outputs": [
    {
     "name": "stdout",
     "output_type": "stream",
     "text": [
      "1 2 3 4 5 6 7 8 9 10 "
     ]
    }
   ],
   "source": [
    "for i in range(1,10+1):\n",
    "    print(i,end=' ')"
   ]
  },
  {
   "cell_type": "code",
   "execution_count": 12,
   "id": "60bd95e0",
   "metadata": {},
   "outputs": [
    {
     "name": "stdout",
     "output_type": "stream",
     "text": [
      "0 2 4 6 8 "
     ]
    }
   ],
   "source": [
    "for i in range(0,10,2):\n",
    "    print(i,end=' ')"
   ]
  },
  {
   "cell_type": "code",
   "execution_count": 16,
   "id": "29e4d60f",
   "metadata": {},
   "outputs": [
    {
     "name": "stdout",
     "output_type": "stream",
     "text": [
      "100 105 110 115 120 125 130 135 140 145 150 "
     ]
    }
   ],
   "source": [
    "for i in range(100,150+1,5):\n",
    "    print(i,end=' ')"
   ]
  },
  {
   "cell_type": "code",
   "execution_count": 18,
   "id": "6745415c",
   "metadata": {},
   "outputs": [
    {
     "name": "stdout",
     "output_type": "stream",
     "text": [
      "5\n",
      "5 x 1 = 5\n",
      "5 x 2 = 10\n",
      "5 x 3 = 15\n",
      "5 x 4 = 20\n",
      "5 x 5 = 25\n",
      "5 x 6 = 30\n",
      "5 x 7 = 35\n",
      "5 x 8 = 40\n",
      "5 x 9 = 45\n",
      "5 x 10 = 50\n"
     ]
    }
   ],
   "source": [
    "##Multiplication table\n",
    "n=int(input())\n",
    "for i in range(1,11):\n",
    "    print(n,'x',i,'=',n*i)"
   ]
  },
  {
   "cell_type": "code",
   "execution_count": 22,
   "id": "6ed3fd6e",
   "metadata": {},
   "outputs": [
    {
     "name": "stdout",
     "output_type": "stream",
     "text": [
      "1000\n",
      "9999\n",
      "1001 1111 1221 1331 1441 1551 1661 1771 1881 1991 2002 2112 2222 2332 2442 2552 2662 2772 2882 2992 3003 3113 3223 3333 3443 3553 3663 3773 3883 3993 4004 4114 4224 4334 4444 4554 4664 4774 4884 4994 5005 5115 5225 5335 5445 5555 5665 5775 5885 5995 6006 6116 6226 6336 6446 6556 6666 6776 6886 6996 7007 7117 7227 7337 7447 7557 7667 7777 7887 7997 8008 8118 8228 8338 8448 8558 8668 8778 8888 8998 9009 9119 9229 9339 9449 9559 9669 9779 9889 9999 "
     ]
    }
   ],
   "source": [
    "##taking 2 inputs\n",
    "## print the palindrome number between that limits\n",
    "lb=int(input())\n",
    "ub=int(input())\n",
    "for i in range(lb,ub+1):\n",
    "    n=i\n",
    "    rev=0\n",
    "    while i!=0:\n",
    "        r=i%10\n",
    "        rev=rev*10+r\n",
    "        i=i//10\n",
    "    if n==rev:\n",
    "        print(n,end=' ')"
   ]
  },
  {
   "cell_type": "markdown",
   "id": "a1e7d6b0",
   "metadata": {},
   "source": [
    "## Functions"
   ]
  },
  {
   "cell_type": "code",
   "execution_count": 26,
   "id": "8334cc1e",
   "metadata": {},
   "outputs": [],
   "source": [
    "def greet(name):\n",
    "    print('Your Name is',name)\n",
    "    return "
   ]
  },
  {
   "cell_type": "code",
   "execution_count": 28,
   "id": "d266d03f",
   "metadata": {},
   "outputs": [
    {
     "name": "stdout",
     "output_type": "stream",
     "text": [
      "Your Name is Vamshi\n"
     ]
    }
   ],
   "source": [
    "greet('Vamshi')"
   ]
  },
  {
   "cell_type": "code",
   "execution_count": 29,
   "id": "00f7f188",
   "metadata": {},
   "outputs": [],
   "source": [
    "def fun():\n",
    "    return 100"
   ]
  },
  {
   "cell_type": "code",
   "execution_count": 30,
   "id": "15ae9f35",
   "metadata": {},
   "outputs": [
    {
     "data": {
      "text/plain": [
       "100"
      ]
     },
     "execution_count": 30,
     "metadata": {},
     "output_type": "execute_result"
    }
   ],
   "source": [
    "fun()"
   ]
  },
  {
   "cell_type": "code",
   "execution_count": 37,
   "id": "cc648a72",
   "metadata": {},
   "outputs": [
    {
     "name": "stdout",
     "output_type": "stream",
     "text": [
      "134\n",
      "Not Palindrome\n"
     ]
    }
   ],
   "source": [
    "def palind(n):\n",
    "    rev=n[::-1]\n",
    "    if rev==n:\n",
    "        return True\n",
    "    else:\n",
    "        return False\n",
    "    return\n",
    "n=str(input())\n",
    "palind(n)\n",
    "if palind(n)==True:\n",
    "    print('Its Palindrome')\n",
    "else:\n",
    "    print('Not Palindrome')"
   ]
  },
  {
   "cell_type": "code",
   "execution_count": 42,
   "id": "556d4ea9",
   "metadata": {},
   "outputs": [
    {
     "name": "stdout",
     "output_type": "stream",
     "text": [
      "3\n",
      "Its Prime\n"
     ]
    }
   ],
   "source": [
    "## prime nuumber using functions\n",
    "def prime(n):\n",
    "    flag=False\n",
    "    for i in range(2,n//2):\n",
    "        if n%i==0:\n",
    "            flag=False\n",
    "            break\n",
    "    if flag==False:\n",
    "        return True\n",
    "    return False\n",
    "n=int(input())\n",
    "if prime(n)==True:\n",
    "    print('Its Prime')\n",
    "else:\n",
    "    print('not Prime')"
   ]
  },
  {
   "cell_type": "code",
   "execution_count": 43,
   "id": "3b36fcc0",
   "metadata": {},
   "outputs": [
    {
     "data": {
      "text/plain": [
       "100"
      ]
     },
     "execution_count": 43,
     "metadata": {},
     "output_type": "execute_result"
    }
   ],
   "source": [
    "# to check whether function is having multiple return sections\n",
    "def ret():\n",
    "    return 100 \n",
    "    return 200\n",
    "    return 300\n",
    "ret()"
   ]
  },
  {
   "cell_type": "markdown",
   "id": "75254217",
   "metadata": {},
   "source": [
    "## Datastructures in python programming\n",
    "- List\n",
    "- Tuples\n",
    "- Dict\n",
    "- Sets"
   ]
  },
  {
   "cell_type": "code",
   "execution_count": 44,
   "id": "6355c889",
   "metadata": {},
   "outputs": [
    {
     "name": "stdout",
     "output_type": "stream",
     "text": [
      "[] <class 'list'>\n"
     ]
    }
   ],
   "source": [
    "li=[]\n",
    "print(li,type(li))"
   ]
  },
  {
   "cell_type": "code",
   "execution_count": 45,
   "id": "9e3346ca",
   "metadata": {},
   "outputs": [
    {
     "name": "stdout",
     "output_type": "stream",
     "text": [
      "[1, 2, 3, 4, 5]\n"
     ]
    }
   ],
   "source": [
    "my_li=[1,2,3,4,5]\n",
    "print(my_li)"
   ]
  },
  {
   "cell_type": "code",
   "execution_count": 47,
   "id": "53c7dd92",
   "metadata": {},
   "outputs": [
    {
     "data": {
      "text/plain": [
       "[1, 3, 5, 2, 'q', 4, 6, 2, 'Hello']"
      ]
     },
     "execution_count": 47,
     "metadata": {},
     "output_type": "execute_result"
    }
   ],
   "source": [
    "my_li=[1,3,5,2,'q',4,6,2,'Hello']\n",
    "my_li"
   ]
  },
  {
   "cell_type": "code",
   "execution_count": 49,
   "id": "7c8d9fb8",
   "metadata": {},
   "outputs": [
    {
     "name": "stdout",
     "output_type": "stream",
     "text": [
      "1 3 5 2 q 4 6 2 Hello "
     ]
    }
   ],
   "source": [
    "for i in range(len(my_li)):\n",
    "    print(my_li[i],end=' ')"
   ]
  },
  {
   "cell_type": "code",
   "execution_count": 50,
   "id": "2a6503f1",
   "metadata": {},
   "outputs": [
    {
     "data": {
      "text/plain": [
       "[1, 3, 5, 2, 2021, 4, 6, 2, 'Hello']"
      ]
     },
     "execution_count": 50,
     "metadata": {},
     "output_type": "execute_result"
    }
   ],
   "source": [
    "my_li[4]=2021\n",
    "my_li\n"
   ]
  },
  {
   "cell_type": "code",
   "execution_count": 51,
   "id": "98643b52",
   "metadata": {},
   "outputs": [],
   "source": [
    "del my_li[5]"
   ]
  },
  {
   "cell_type": "code",
   "execution_count": 52,
   "id": "86209f1c",
   "metadata": {},
   "outputs": [
    {
     "data": {
      "text/plain": [
       "[1, 3, 5, 2, 2021, 6, 2, 'Hello']"
      ]
     },
     "execution_count": 52,
     "metadata": {},
     "output_type": "execute_result"
    }
   ],
   "source": [
    "my_li"
   ]
  },
  {
   "cell_type": "code",
   "execution_count": null,
   "id": "9db48ca9",
   "metadata": {},
   "outputs": [],
   "source": []
  }
 ],
 "metadata": {
  "kernelspec": {
   "display_name": "Python 3",
   "language": "python",
   "name": "python3"
  },
  "language_info": {
   "codemirror_mode": {
    "name": "ipython",
    "version": 3
   },
   "file_extension": ".py",
   "mimetype": "text/x-python",
   "name": "python",
   "nbconvert_exporter": "python",
   "pygments_lexer": "ipython3",
   "version": "3.8.8"
  }
 },
 "nbformat": 4,
 "nbformat_minor": 5
}
