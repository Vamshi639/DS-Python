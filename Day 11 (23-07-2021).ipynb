{
 "cells": [
  {
   "cell_type": "code",
   "execution_count": 1,
   "id": "31e7daa8",
   "metadata": {},
   "outputs": [],
   "source": [
    "contacts={}"
   ]
  },
  {
   "cell_type": "code",
   "execution_count": 4,
   "id": "f0de0c69",
   "metadata": {},
   "outputs": [
    {
     "data": {
      "text/plain": [
       "'Contact added'"
      ]
     },
     "execution_count": 4,
     "metadata": {},
     "output_type": "execute_result"
    }
   ],
   "source": [
    "def insert_contacts(name,phone):\n",
    "    if name not in contacts:\n",
    "        contacts[name]=phone\n",
    "        return \"Contact added\"\n",
    "    return \"Contact already exists\"\n",
    "insert_contacts('Vamshi',9110528066)"
   ]
  },
  {
   "cell_type": "code",
   "execution_count": 5,
   "id": "81a48aee",
   "metadata": {},
   "outputs": [
    {
     "data": {
      "text/plain": [
       "'Contact is updated'"
      ]
     },
     "execution_count": 5,
     "metadata": {},
     "output_type": "execute_result"
    }
   ],
   "source": [
    "def updated_contacts(name,phone):\n",
    "    if name in contacts:\n",
    "        contacts[name]=phone\n",
    "        return \"Contact is updated\"\n",
    "    return \"Contact is not found\"\n",
    "updated_contacts('Vamshi',9110528066)"
   ]
  },
  {
   "cell_type": "code",
   "execution_count": 6,
   "id": "14c7826f",
   "metadata": {},
   "outputs": [
    {
     "data": {
      "text/plain": [
       "{'Vamshi': 9110528066}"
      ]
     },
     "execution_count": 6,
     "metadata": {},
     "output_type": "execute_result"
    }
   ],
   "source": [
    "contacts"
   ]
  },
  {
   "cell_type": "code",
   "execution_count": 11,
   "id": "df017a19",
   "metadata": {},
   "outputs": [
    {
     "data": {
      "text/plain": [
       "'3Contact merged'"
      ]
     },
     "execution_count": 11,
     "metadata": {},
     "output_type": "execute_result"
    }
   ],
   "source": [
    "def merge_contact(new_dict):\n",
    "    n=len(new_dict)\n",
    "    if n>0:\n",
    "        contacts.update(new_dict)\n",
    "        return str(len(new_dict)) + \"Contact merged\"\n",
    "    return \"No contacts are there for merged\"\n",
    "new_dict={'Manoj':'4726675236','Surya':'749265827','Mahesh':'728346712'}\n",
    "merge_contact(new_dict)"
   ]
  },
  {
   "cell_type": "code",
   "execution_count": 12,
   "id": "61490e25",
   "metadata": {},
   "outputs": [
    {
     "data": {
      "text/plain": [
       "{'Vamshi': 9110528066,\n",
       " 'Manoj': '4726675236',\n",
       " 'Surya': '749265827',\n",
       " 'Mahesh': '728346712'}"
      ]
     },
     "execution_count": 12,
     "metadata": {},
     "output_type": "execute_result"
    }
   ],
   "source": [
    "contacts"
   ]
  },
  {
   "cell_type": "markdown",
   "id": "7952b352",
   "metadata": {},
   "source": [
    "## Python Lambda Functions"
   ]
  },
  {
   "cell_type": "code",
   "execution_count": 14,
   "id": "3f9d354c",
   "metadata": {},
   "outputs": [
    {
     "data": {
      "text/plain": [
       "4"
      ]
     },
     "execution_count": 14,
     "metadata": {},
     "output_type": "execute_result"
    }
   ],
   "source": [
    "def square(x):\n",
    "    return x*x\n",
    "square(2)"
   ]
  },
  {
   "cell_type": "code",
   "execution_count": 15,
   "id": "7f73329f",
   "metadata": {},
   "outputs": [
    {
     "data": {
      "text/plain": [
       "16"
      ]
     },
     "execution_count": 15,
     "metadata": {},
     "output_type": "execute_result"
    }
   ],
   "source": [
    "res_lambda=lambda x: x*x\n",
    "res_lambda(4)"
   ]
  },
  {
   "cell_type": "code",
   "execution_count": 16,
   "id": "06f45f70",
   "metadata": {},
   "outputs": [
    {
     "data": {
      "text/plain": [
       "200"
      ]
     },
     "execution_count": 16,
     "metadata": {},
     "output_type": "execute_result"
    }
   ],
   "source": [
    "def multiple(x,y):\n",
    "    return x*y\n",
    "multiple(10,20)"
   ]
  },
  {
   "cell_type": "code",
   "execution_count": 18,
   "id": "5c13836d",
   "metadata": {},
   "outputs": [
    {
     "data": {
      "text/plain": [
       "20"
      ]
     },
     "execution_count": 18,
     "metadata": {},
     "output_type": "execute_result"
    }
   ],
   "source": [
    "mul_lambda = lambda x,y:x*y\n",
    "mul_lambda(10,2)"
   ]
  },
  {
   "cell_type": "code",
   "execution_count": 1,
   "id": "08cc67cc",
   "metadata": {},
   "outputs": [
    {
     "data": {
      "text/plain": [
       "[2, 4, 6, 8, 10]"
      ]
     },
     "execution_count": 1,
     "metadata": {},
     "output_type": "execute_result"
    }
   ],
   "source": [
    "li=[1,2,3,4,5,6,7,8,9,10]\n",
    "res_even_list=list(filter(lambda x: (x%2==0),li))\n",
    "res_even_list"
   ]
  },
  {
   "cell_type": "code",
   "execution_count": 2,
   "id": "b5b4121e",
   "metadata": {},
   "outputs": [
    {
     "data": {
      "text/plain": [
       "[69, 66, 155]"
      ]
     },
     "execution_count": 2,
     "metadata": {},
     "output_type": "execute_result"
    }
   ],
   "source": [
    "li=[19,1,25,69,32,55,66,155]\n",
    "x1=list(filter(lambda x: (x>60),li))\n",
    "x1"
   ]
  },
  {
   "cell_type": "code",
   "execution_count": 25,
   "id": "18071cd3",
   "metadata": {},
   "outputs": [
    {
     "data": {
      "text/plain": [
       "[11, 12, 13, 14, 15, 16, 17, 18, 19, 20]"
      ]
     },
     "execution_count": 25,
     "metadata": {},
     "output_type": "execute_result"
    }
   ],
   "source": [
    "def add_ten(li):\n",
    "    for i in range(len(li)):\n",
    "        li[i]=li[i]+10\n",
    "    return li\n",
    "add_ten(li)"
   ]
  },
  {
   "cell_type": "code",
   "execution_count": 3,
   "id": "a448c1fe",
   "metadata": {},
   "outputs": [
    {
     "data": {
      "text/plain": [
       "[29, 11, 35, 79, 42, 65, 76, 165]"
      ]
     },
     "execution_count": 3,
     "metadata": {},
     "output_type": "execute_result"
    }
   ],
   "source": [
    "li=[19,1,25,69,32,55,66,155]\n",
    "res_map=list(map(lambda x:x+10,li))\n",
    "res_map"
   ]
  },
  {
   "cell_type": "code",
   "execution_count": 4,
   "id": "2bed1339",
   "metadata": {},
   "outputs": [
    {
     "data": {
      "text/plain": [
       "422"
      ]
     },
     "execution_count": 4,
     "metadata": {},
     "output_type": "execute_result"
    }
   ],
   "source": [
    "def add_list_values(li):\n",
    "    s=0\n",
    "    for i in range(len(li)):\n",
    "        s=s+li[i]\n",
    "    return s\n",
    "li=[19,1,25,69,32,55,66,155]\n",
    "add_list_values(li)"
   ]
  },
  {
   "cell_type": "code",
   "execution_count": 5,
   "id": "df7dab90",
   "metadata": {},
   "outputs": [
    {
     "data": {
      "text/plain": [
       "422"
      ]
     },
     "execution_count": 5,
     "metadata": {},
     "output_type": "execute_result"
    }
   ],
   "source": [
    "from functools import reduce\n",
    "res_reduce=reduce((lambda x,y:x+y),li)\n",
    "res_reduce"
   ]
  },
  {
   "cell_type": "code",
   "execution_count": 6,
   "id": "70d2b2e5",
   "metadata": {},
   "outputs": [
    {
     "data": {
      "text/plain": [
       "352"
      ]
     },
     "execution_count": 6,
     "metadata": {},
     "output_type": "execute_result"
    }
   ],
   "source": [
    "def find_large_li(li):\n",
    "    large=li[0]\n",
    "    for i in range(len(li)):\n",
    "        if large<li[i]:\n",
    "            large=li[i]\n",
    "    return large\n",
    "li=[19,1,255,169,352,55,66,155]\n",
    "find_large_li(li)"
   ]
  },
  {
   "cell_type": "code",
   "execution_count": 7,
   "id": "5923da33",
   "metadata": {},
   "outputs": [
    {
     "data": {
      "text/plain": [
       "352"
      ]
     },
     "execution_count": 7,
     "metadata": {},
     "output_type": "execute_result"
    }
   ],
   "source": [
    "res_reduce1=reduce(lambda a,b:a if a>b else b,li)\n",
    "res_reduce1"
   ]
  },
  {
   "cell_type": "code",
   "execution_count": 8,
   "id": "0fef16d3",
   "metadata": {},
   "outputs": [
    {
     "name": "stdout",
     "output_type": "stream",
     "text": [
      "20\n"
     ]
    }
   ],
   "source": [
    "x=10\n",
    "y=20\n",
    "if x>y:\n",
    "    print(x)\n",
    "else:\n",
    "    print(y)"
   ]
  },
  {
   "cell_type": "code",
   "execution_count": 9,
   "id": "8ec51ce6",
   "metadata": {},
   "outputs": [
    {
     "data": {
      "text/plain": [
       "20"
      ]
     },
     "execution_count": 9,
     "metadata": {},
     "output_type": "execute_result"
    }
   ],
   "source": [
    "x if x>y else y"
   ]
  },
  {
   "cell_type": "code",
   "execution_count": 10,
   "id": "c07e438d",
   "metadata": {},
   "outputs": [
    {
     "name": "stdout",
     "output_type": "stream",
     "text": [
      "100\n"
     ]
    }
   ],
   "source": [
    "x=100\n",
    "y=20\n",
    "if x>y and x>30:\n",
    "    print(x)\n",
    "else:\n",
    "    print(y)"
   ]
  },
  {
   "cell_type": "code",
   "execution_count": null,
   "id": "dac3dac0",
   "metadata": {},
   "outputs": [],
   "source": []
  }
 ],
 "metadata": {
  "kernelspec": {
   "display_name": "Python 3",
   "language": "python",
   "name": "python3"
  },
  "language_info": {
   "codemirror_mode": {
    "name": "ipython",
    "version": 3
   },
   "file_extension": ".py",
   "mimetype": "text/x-python",
   "name": "python",
   "nbconvert_exporter": "python",
   "pygments_lexer": "ipython3",
   "version": "3.8.8"
  }
 },
 "nbformat": 4,
 "nbformat_minor": 5
}
