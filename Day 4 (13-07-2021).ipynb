{
 "cells": [
  {
   "cell_type": "markdown",
   "id": "adb0a3b0",
   "metadata": {},
   "source": [
    "## Control Statements"
   ]
  },
  {
   "cell_type": "code",
   "execution_count": 1,
   "id": "100ec8d5",
   "metadata": {},
   "outputs": [
    {
     "name": "stdout",
     "output_type": "stream",
     "text": [
      "Hello\n"
     ]
    }
   ],
   "source": [
    "if True:\n",
    "    print(\"Hello\")\n",
    "else:\n",
    "    print(\"Bye\")"
   ]
  },
  {
   "cell_type": "code",
   "execution_count": 4,
   "id": "22721ec0",
   "metadata": {},
   "outputs": [
    {
     "name": "stdout",
     "output_type": "stream",
     "text": [
      "Bye\n"
     ]
    }
   ],
   "source": [
    "if False:\n",
    "    print(\"Hello\")\n",
    "else:\n",
    "    print(\"Bye\")"
   ]
  },
  {
   "cell_type": "code",
   "execution_count": 8,
   "id": "61dd4837",
   "metadata": {},
   "outputs": [
    {
     "name": "stdout",
     "output_type": "stream",
     "text": [
      "22\n",
      "Even\n"
     ]
    }
   ],
   "source": [
    "n=int(input())\n",
    "if n%2==0:\n",
    "    print('Even')\n",
    "else:\n",
    "    print('Odd')"
   ]
  },
  {
   "cell_type": "code",
   "execution_count": 9,
   "id": "856fc864",
   "metadata": {},
   "outputs": [
    {
     "name": "stdout",
     "output_type": "stream",
     "text": [
      "-9\n",
      "its negative\n"
     ]
    }
   ],
   "source": [
    "inputv=int(input())\n",
    "if inputv>0:\n",
    "    print('its positive')\n",
    "else:\n",
    "    print('its negative')"
   ]
  },
  {
   "cell_type": "code",
   "execution_count": 10,
   "id": "ad179d3f",
   "metadata": {},
   "outputs": [
    {
     "name": "stdout",
     "output_type": "stream",
     "text": [
      "0\n",
      "Its zero\n"
     ]
    }
   ],
   "source": [
    "n=int(input())\n",
    "if n>0:\n",
    "    print('its positive')\n",
    "elif n<0:\n",
    "    print('its negative')\n",
    "elif n==0:\n",
    "    print('Its zero')"
   ]
  },
  {
   "cell_type": "code",
   "execution_count": 11,
   "id": "7a2b1c8b",
   "metadata": {},
   "outputs": [
    {
     "name": "stdout",
     "output_type": "stream",
     "text": [
      "Good\n"
     ]
    }
   ],
   "source": [
    "n=100\n",
    "if n>10:\n",
    "    print('Good')\n",
    "elif n>20:\n",
    "    print('Better')\n",
    "elif n>30:\n",
    "    print('Best')\n",
    "else:\n",
    "    print('No')"
   ]
  },
  {
   "cell_type": "markdown",
   "id": "0da4ea74",
   "metadata": {},
   "source": [
    "## Looping Statements"
   ]
  },
  {
   "cell_type": "code",
   "execution_count": 12,
   "id": "e150315a",
   "metadata": {},
   "outputs": [
    {
     "name": "stdout",
     "output_type": "stream",
     "text": [
      "10\n",
      "1 2 3 4 5 6 7 8 9 10 "
     ]
    }
   ],
   "source": [
    "n=int(input())\n",
    "i=1\n",
    "while i<=n:\n",
    "    print(i,end=' ')\n",
    "    i+=1"
   ]
  },
  {
   "cell_type": "code",
   "execution_count": 16,
   "id": "65fa1b0c",
   "metadata": {},
   "outputs": [
    {
     "name": "stdout",
     "output_type": "stream",
     "text": [
      "10\n",
      "2 4 6 8 10 "
     ]
    }
   ],
   "source": [
    "## printing even numbers\n",
    "n=int(input())\n",
    "i=1\n",
    "while i<=n:\n",
    "    if i%2==0:\n",
    "        print(i,end=' ')\n",
    "    i+=1"
   ]
  },
  {
   "cell_type": "code",
   "execution_count": 17,
   "id": "3281693b",
   "metadata": {},
   "outputs": [
    {
     "name": "stdout",
     "output_type": "stream",
     "text": [
      "100\n",
      "Total Number of odd numbers 50\n"
     ]
    }
   ],
   "source": [
    "n=int(input())\n",
    "i=1\n",
    "count=0\n",
    "while i<=n:\n",
    "    if i%2!=0:\n",
    "        count+=1\n",
    "    i+=1\n",
    "print('Total Number of odd numbers',count)"
   ]
  },
  {
   "cell_type": "code",
   "execution_count": 18,
   "id": "59f009e4",
   "metadata": {},
   "outputs": [
    {
     "name": "stdout",
     "output_type": "stream",
     "text": [
      "12\n",
      "1 2 3 4 6 12 "
     ]
    }
   ],
   "source": [
    "#factorial\n",
    "n=int(input())\n",
    "i=1\n",
    "while i<=n:\n",
    "    if n%i==0:\n",
    "        print(i,end=' ')\n",
    "    i+=1"
   ]
  },
  {
   "cell_type": "code",
   "execution_count": 7,
   "id": "9444fbf8",
   "metadata": {},
   "outputs": [
    {
     "name": "stdout",
     "output_type": "stream",
     "text": [
      "12\n",
      "Its not a perfect number\n"
     ]
    }
   ],
   "source": [
    "i = 2 \n",
    "sum = 1\n",
    "n = int(input())   \n",
    "while(i <= n//2 ) :\n",
    "    if (n % i == 0) :\n",
    "        sum += i  \n",
    "    i += 1   \n",
    "if sum == n :\n",
    "    print(\"Its perfect number\")  \n",
    "else :\n",
    "    print(\"Its not a perfect number\")"
   ]
  },
  {
   "cell_type": "code",
   "execution_count": 8,
   "id": "5f3f26dd",
   "metadata": {},
   "outputs": [
    {
     "name": "stdout",
     "output_type": "stream",
     "text": [
      "7\n",
      "Its Prime\n"
     ]
    }
   ],
   "source": [
    "#Prime Numbers\n",
    "n=int(input())\n",
    "flag=False\n",
    "i=2\n",
    "while i<(n//2):\n",
    "    if n%i==0:\n",
    "        flag=True\n",
    "        break\n",
    "    i+=1\n",
    "if(flag==False):\n",
    "    print('Its Prime')\n",
    "else:\n",
    "    print('Its not a Prime')"
   ]
  },
  {
   "cell_type": "code",
   "execution_count": 10,
   "id": "8e9ff128",
   "metadata": {},
   "outputs": [
    {
     "name": "stdout",
     "output_type": "stream",
     "text": [
      "Enter lower range: 1\n",
      "Enter upper range: 10\n",
      "1\n"
     ]
    }
   ],
   "source": [
    "lower = int(input(\"Enter lower range: \"))  \n",
    "upper = int(input(\"Enter upper range: \"))  \n",
    "  \n",
    "for num in range(lower,upper + 1):  \n",
    "   if num > 1:  \n",
    "       for i in range(2,num):  \n",
    "           if (num % i) == 0:  \n",
    "               break  \n",
    "   else:\n",
    "    print(num) "
   ]
  },
  {
   "cell_type": "code",
   "execution_count": null,
   "id": "1d0f6574",
   "metadata": {},
   "outputs": [],
   "source": []
  }
 ],
 "metadata": {
  "kernelspec": {
   "display_name": "Python 3",
   "language": "python",
   "name": "python3"
  },
  "language_info": {
   "codemirror_mode": {
    "name": "ipython",
    "version": 3
   },
   "file_extension": ".py",
   "mimetype": "text/x-python",
   "name": "python",
   "nbconvert_exporter": "python",
   "pygments_lexer": "ipython3",
   "version": "3.8.8"
  }
 },
 "nbformat": 4,
 "nbformat_minor": 5
}
