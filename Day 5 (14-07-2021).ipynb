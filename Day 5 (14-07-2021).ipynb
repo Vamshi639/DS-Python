{
 "cells": [
  {
   "cell_type": "code",
   "execution_count": 8,
   "id": "919778e0",
   "metadata": {},
   "outputs": [
    {
     "name": "stdout",
     "output_type": "stream",
     "text": [
      "2\n",
      "20\n",
      "2 3 5 7 11 13 17 19 "
     ]
    }
   ],
   "source": [
    "lb=int(input())\n",
    "ub=int(input())\n",
    "while lb<=ub:\n",
    "    flag=False\n",
    "    i=2\n",
    "    while i<=(lb//2):\n",
    "        if lb%i==0:\n",
    "            flag=True\n",
    "            break\n",
    "        i+=1\n",
    "    if flag==False:\n",
    "        print(lb,end=' ')\n",
    "    lb+=1"
   ]
  },
  {
   "cell_type": "code",
   "execution_count": 12,
   "id": "4612a8fc",
   "metadata": {},
   "outputs": [
    {
     "name": "stdout",
     "output_type": "stream",
     "text": [
      "12321\n",
      "Its a Palindrome\n"
     ]
    }
   ],
   "source": [
    "inpstr=str(input())\n",
    "rev_word=inpstr[::-1]\n",
    "if rev_word==inpstr:\n",
    "    print('Its a Palindrome')\n",
    "else:\n",
    "    print('Its not a Palindrome')"
   ]
  },
  {
   "cell_type": "code",
   "execution_count": 16,
   "id": "87280315",
   "metadata": {},
   "outputs": [
    {
     "name": "stdout",
     "output_type": "stream",
     "text": [
      "143\n",
      "3 4 1 "
     ]
    }
   ],
   "source": [
    "n=int(input())\n",
    "while n!=0:\n",
    "    r=n%10\n",
    "    print(r,end=' ')\n",
    "    n=n//10"
   ]
  },
  {
   "cell_type": "code",
   "execution_count": 18,
   "id": "0510ae01",
   "metadata": {},
   "outputs": [
    {
     "name": "stdout",
     "output_type": "stream",
     "text": [
      "32187325467\n",
      "6 4 2 8 2 "
     ]
    }
   ],
   "source": [
    "n=int(input())\n",
    "while n!=0:\n",
    "    r=n%10\n",
    "    if r%2==0:\n",
    "        print(r,end=' ')\n",
    "    n=n//10"
   ]
  },
  {
   "cell_type": "code",
   "execution_count": 20,
   "id": "401b1f8a",
   "metadata": {},
   "outputs": [
    {
     "name": "stdout",
     "output_type": "stream",
     "text": [
      "143\n",
      "Three\n",
      "Four\n",
      "One\n"
     ]
    }
   ],
   "source": [
    "n=int(input())\n",
    "while n!=0:\n",
    "    r=n%10\n",
    "    if r==1:\n",
    "        print('One')\n",
    "    elif r==2:\n",
    "        print('Two')\n",
    "    elif r==3:\n",
    "        print('Three')\n",
    "    elif r==4:\n",
    "        print('Four')\n",
    "    elif r==5:\n",
    "        print('Five')\n",
    "    elif r==6:\n",
    "        print('Six')\n",
    "    elif r==7:\n",
    "        print('Seven')\n",
    "    elif r==8:\n",
    "        print('Eight')\n",
    "    elif r==9:\n",
    "        print('Nine')\n",
    "    elif r==0:\n",
    "        print('Zero')\n",
    "    n=n//10"
   ]
  },
  {
   "cell_type": "code",
   "execution_count": 24,
   "id": "c173dfb1",
   "metadata": {},
   "outputs": [
    {
     "name": "stdout",
     "output_type": "stream",
     "text": [
      "1491\n",
      "11\n"
     ]
    }
   ],
   "source": [
    "n=int(input())\n",
    "even_sum=0\n",
    "odd_sum=0\n",
    "while n!=0:\n",
    "    r=n%10\n",
    "    if r%2==0:\n",
    "        even_sum+=r\n",
    "    else:\n",
    "        odd_sum+=r\n",
    "    n=n//10\n",
    "if even_sum==odd_sum:\n",
    "    print(even_sum)\n",
    "elif even_sum>odd_sum:\n",
    "    print(even_sum)\n",
    "elif even_sum<odd_sum:\n",
    "    print(odd_sum)\n",
    "    "
   ]
  },
  {
   "cell_type": "code",
   "execution_count": 25,
   "id": "ec8c4168",
   "metadata": {},
   "outputs": [
    {
     "name": "stdout",
     "output_type": "stream",
     "text": [
      "143\n",
      "341\n"
     ]
    }
   ],
   "source": [
    "##reverse a string\n",
    "n=int(input())\n",
    "rev=0\n",
    "while n!=0:\n",
    "    r=n%10\n",
    "    rev=rev*10+r\n",
    "    n=n//10\n",
    "print(rev)"
   ]
  },
  {
   "cell_type": "code",
   "execution_count": null,
   "id": "07be3323",
   "metadata": {},
   "outputs": [],
   "source": []
  }
 ],
 "metadata": {
  "kernelspec": {
   "display_name": "Python 3",
   "language": "python",
   "name": "python3"
  }
 },
 "nbformat": 4,
 "nbformat_minor": 5
}
