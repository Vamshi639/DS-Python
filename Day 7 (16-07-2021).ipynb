{
 "cells": [
  {
   "cell_type": "markdown",
   "id": "c3a9ad68",
   "metadata": {},
   "source": [
    "## List and List Related Methods"
   ]
  },
  {
   "cell_type": "code",
   "execution_count": 1,
   "id": "a2ee4f0f",
   "metadata": {},
   "outputs": [
    {
     "data": {
      "text/plain": [
       "[1, 2, 3, 4, 5]"
      ]
     },
     "execution_count": 1,
     "metadata": {},
     "output_type": "execute_result"
    }
   ],
   "source": [
    "my_list=[1,2,3,4,5]\n",
    "my_list"
   ]
  },
  {
   "cell_type": "code",
   "execution_count": 2,
   "id": "bb5528d5",
   "metadata": {},
   "outputs": [
    {
     "data": {
      "text/plain": [
       "list"
      ]
     },
     "execution_count": 2,
     "metadata": {},
     "output_type": "execute_result"
    }
   ],
   "source": [
    "type(my_list)"
   ]
  },
  {
   "cell_type": "code",
   "execution_count": 4,
   "id": "4b110540",
   "metadata": {},
   "outputs": [
    {
     "name": "stdout",
     "output_type": "stream",
     "text": [
      "Index : 0 Value : 1\n",
      "Index : 1 Value : 2\n",
      "Index : 2 Value : 3\n",
      "Index : 3 Value : 4\n",
      "Index : 4 Value : 5\n"
     ]
    }
   ],
   "source": [
    "for i in range(len(my_list)):\n",
    "    print(\"Index :\",i,\"Value :\",my_list[i])"
   ]
  },
  {
   "cell_type": "markdown",
   "id": "218e6108",
   "metadata": {},
   "source": [
    "## Functions in Lists"
   ]
  },
  {
   "cell_type": "code",
   "execution_count": 5,
   "id": "e09c3738",
   "metadata": {},
   "outputs": [
    {
     "data": {
      "text/plain": [
       "5"
      ]
     },
     "execution_count": 5,
     "metadata": {},
     "output_type": "execute_result"
    }
   ],
   "source": [
    "max(my_list)"
   ]
  },
  {
   "cell_type": "code",
   "execution_count": 6,
   "id": "35d708f8",
   "metadata": {},
   "outputs": [
    {
     "data": {
      "text/plain": [
       "1"
      ]
     },
     "execution_count": 6,
     "metadata": {},
     "output_type": "execute_result"
    }
   ],
   "source": [
    "min(my_list)"
   ]
  },
  {
   "cell_type": "code",
   "execution_count": 7,
   "id": "f4ff5ac4",
   "metadata": {},
   "outputs": [
    {
     "data": {
      "text/plain": [
       "5"
      ]
     },
     "execution_count": 7,
     "metadata": {},
     "output_type": "execute_result"
    }
   ],
   "source": [
    "len(my_list)"
   ]
  },
  {
   "cell_type": "code",
   "execution_count": 8,
   "id": "93aaa244",
   "metadata": {},
   "outputs": [
    {
     "data": {
      "text/plain": [
       "15"
      ]
     },
     "execution_count": 8,
     "metadata": {},
     "output_type": "execute_result"
    }
   ],
   "source": [
    "sum(my_list)"
   ]
  },
  {
   "cell_type": "code",
   "execution_count": 9,
   "id": "9e35490e",
   "metadata": {},
   "outputs": [
    {
     "data": {
      "text/plain": [
       "3"
      ]
     },
     "execution_count": 9,
     "metadata": {},
     "output_type": "execute_result"
    }
   ],
   "source": [
    "sum(my_list)//len(my_list)"
   ]
  },
  {
   "cell_type": "code",
   "execution_count": 10,
   "id": "12c84ae3",
   "metadata": {},
   "outputs": [
    {
     "name": "stdout",
     "output_type": "stream",
     "text": [
      "3\n",
      "4\n",
      "5\n"
     ]
    }
   ],
   "source": [
    "for i in range(2,5):\n",
    "    print(my_list[i])"
   ]
  },
  {
   "cell_type": "code",
   "execution_count": 11,
   "id": "3a6a96f0",
   "metadata": {},
   "outputs": [
    {
     "data": {
      "text/plain": [
       "[3, 4]"
      ]
     },
     "execution_count": 11,
     "metadata": {},
     "output_type": "execute_result"
    }
   ],
   "source": [
    "my_list[2:4]"
   ]
  },
  {
   "cell_type": "code",
   "execution_count": 12,
   "id": "0402afdf",
   "metadata": {},
   "outputs": [
    {
     "data": {
      "text/plain": [
       "[1, 2, 3, 4, 5]"
      ]
     },
     "execution_count": 12,
     "metadata": {},
     "output_type": "execute_result"
    }
   ],
   "source": [
    "my_list[::]"
   ]
  },
  {
   "cell_type": "code",
   "execution_count": 13,
   "id": "3ae432b0",
   "metadata": {},
   "outputs": [
    {
     "data": {
      "text/plain": [
       "[2, 3, 4]"
      ]
     },
     "execution_count": 13,
     "metadata": {},
     "output_type": "execute_result"
    }
   ],
   "source": [
    "my_list[1:4:1]"
   ]
  },
  {
   "cell_type": "code",
   "execution_count": 14,
   "id": "f1aec5a8",
   "metadata": {},
   "outputs": [
    {
     "data": {
      "text/plain": [
       "[1, 3]"
      ]
     },
     "execution_count": 14,
     "metadata": {},
     "output_type": "execute_result"
    }
   ],
   "source": [
    "my_list[0:4:2]"
   ]
  },
  {
   "cell_type": "code",
   "execution_count": 15,
   "id": "1cbb751b",
   "metadata": {},
   "outputs": [
    {
     "data": {
      "text/plain": [
       "[1, 3, 5]"
      ]
     },
     "execution_count": 15,
     "metadata": {},
     "output_type": "execute_result"
    }
   ],
   "source": [
    "my_list[::2]"
   ]
  },
  {
   "cell_type": "code",
   "execution_count": 16,
   "id": "64c611c0",
   "metadata": {},
   "outputs": [
    {
     "data": {
      "text/plain": [
       "[2, 4]"
      ]
     },
     "execution_count": 16,
     "metadata": {},
     "output_type": "execute_result"
    }
   ],
   "source": [
    "my_list[1::2]"
   ]
  },
  {
   "cell_type": "code",
   "execution_count": 17,
   "id": "5e89ab10",
   "metadata": {},
   "outputs": [
    {
     "data": {
      "text/plain": [
       "[1, 2, 3, 4, 5]"
      ]
     },
     "execution_count": 17,
     "metadata": {},
     "output_type": "execute_result"
    }
   ],
   "source": [
    "my_list[-5::1]"
   ]
  },
  {
   "cell_type": "code",
   "execution_count": 18,
   "id": "e43efbe6",
   "metadata": {},
   "outputs": [
    {
     "data": {
      "text/plain": [
       "[1, 2, 3]"
      ]
     },
     "execution_count": 18,
     "metadata": {},
     "output_type": "execute_result"
    }
   ],
   "source": [
    "my_list[-5:-2:1]"
   ]
  },
  {
   "cell_type": "code",
   "execution_count": 19,
   "id": "513c1869",
   "metadata": {},
   "outputs": [
    {
     "data": {
      "text/plain": [
       "[5, 4, 3, 2, 1]"
      ]
     },
     "execution_count": 19,
     "metadata": {},
     "output_type": "execute_result"
    }
   ],
   "source": [
    "my_list[::-1]"
   ]
  },
  {
   "cell_type": "code",
   "execution_count": 20,
   "id": "d9aa7fc7",
   "metadata": {},
   "outputs": [
    {
     "data": {
      "text/plain": [
       "[5, 3, 1]"
      ]
     },
     "execution_count": 20,
     "metadata": {},
     "output_type": "execute_result"
    }
   ],
   "source": [
    "my_list[::-2]"
   ]
  },
  {
   "cell_type": "code",
   "execution_count": 21,
   "id": "4a1e7266",
   "metadata": {},
   "outputs": [
    {
     "data": {
      "text/plain": [
       "[5, 2]"
      ]
     },
     "execution_count": 21,
     "metadata": {},
     "output_type": "execute_result"
    }
   ],
   "source": [
    "my_list[::-3]"
   ]
  },
  {
   "cell_type": "code",
   "execution_count": 22,
   "id": "879bb0c1",
   "metadata": {},
   "outputs": [
    {
     "data": {
      "text/plain": [
       "[45, 54, 764]"
      ]
     },
     "execution_count": 22,
     "metadata": {},
     "output_type": "execute_result"
    }
   ],
   "source": [
    "li=[45,54,764,56,4,651,63,23]\n",
    "li[:3]"
   ]
  },
  {
   "cell_type": "code",
   "execution_count": 23,
   "id": "44328c80",
   "metadata": {},
   "outputs": [
    {
     "data": {
      "text/plain": [
       "[651, 63, 23]"
      ]
     },
     "execution_count": 23,
     "metadata": {},
     "output_type": "execute_result"
    }
   ],
   "source": [
    "li[5:]"
   ]
  },
  {
   "cell_type": "code",
   "execution_count": 25,
   "id": "53c5ce48",
   "metadata": {},
   "outputs": [
    {
     "data": {
      "text/plain": [
       "[45, 54, 764, 651, 63, 23]"
      ]
     },
     "execution_count": 25,
     "metadata": {},
     "output_type": "execute_result"
    }
   ],
   "source": [
    "new_list=li[:3]+li[5:]\n",
    "new_list"
   ]
  },
  {
   "cell_type": "code",
   "execution_count": 27,
   "id": "6e250f99",
   "metadata": {},
   "outputs": [
    {
     "data": {
      "text/plain": [
       "[45, 54, 764, 56, 4, 651, 63, 23, 199, 199]"
      ]
     },
     "execution_count": 27,
     "metadata": {},
     "output_type": "execute_result"
    }
   ],
   "source": [
    "li.append(199)\n",
    "li"
   ]
  },
  {
   "cell_type": "code",
   "execution_count": 29,
   "id": "1592dcfe",
   "metadata": {},
   "outputs": [
    {
     "data": {
      "text/plain": [
       "[45, 54, 764, 143, 143, 56, 4, 651, 63, 23, 199, 199]"
      ]
     },
     "execution_count": 29,
     "metadata": {},
     "output_type": "execute_result"
    }
   ],
   "source": [
    "li.insert(3,143)\n",
    "li"
   ]
  },
  {
   "cell_type": "code",
   "execution_count": 30,
   "id": "3debc419",
   "metadata": {},
   "outputs": [],
   "source": [
    "list1=[1999,2999,39999,399,450]\n",
    "li.extend(list1)"
   ]
  },
  {
   "cell_type": "code",
   "execution_count": 31,
   "id": "38af2719",
   "metadata": {},
   "outputs": [
    {
     "data": {
      "text/plain": [
       "[45,\n",
       " 54,\n",
       " 764,\n",
       " 143,\n",
       " 143,\n",
       " 56,\n",
       " 4,\n",
       " 651,\n",
       " 63,\n",
       " 23,\n",
       " 199,\n",
       " 199,\n",
       " 1999,\n",
       " 2999,\n",
       " 39999,\n",
       " 399,\n",
       " 450]"
      ]
     },
     "execution_count": 31,
     "metadata": {},
     "output_type": "execute_result"
    }
   ],
   "source": [
    "li"
   ]
  },
  {
   "cell_type": "code",
   "execution_count": 34,
   "id": "b761486a",
   "metadata": {},
   "outputs": [
    {
     "data": {
      "text/plain": [
       "10"
      ]
     },
     "execution_count": 34,
     "metadata": {},
     "output_type": "execute_result"
    }
   ],
   "source": [
    "li.index(199)"
   ]
  },
  {
   "cell_type": "code",
   "execution_count": 35,
   "id": "469e7076",
   "metadata": {},
   "outputs": [
    {
     "data": {
      "text/plain": [
       "2"
      ]
     },
     "execution_count": 35,
     "metadata": {},
     "output_type": "execute_result"
    }
   ],
   "source": [
    "li.count(199)"
   ]
  },
  {
   "cell_type": "code",
   "execution_count": 38,
   "id": "9e011d05",
   "metadata": {},
   "outputs": [
    {
     "data": {
      "text/plain": [
       "[450,\n",
       " 399,\n",
       " 39999,\n",
       " 2999,\n",
       " 1999,\n",
       " 199,\n",
       " 199,\n",
       " 23,\n",
       " 63,\n",
       " 651,\n",
       " 4,\n",
       " 56,\n",
       " 143,\n",
       " 143,\n",
       " 764,\n",
       " 54,\n",
       " 45]"
      ]
     },
     "execution_count": 38,
     "metadata": {},
     "output_type": "execute_result"
    }
   ],
   "source": [
    "li.reverse()\n",
    "li"
   ]
  },
  {
   "cell_type": "code",
   "execution_count": 39,
   "id": "80151b0d",
   "metadata": {},
   "outputs": [
    {
     "data": {
      "text/plain": [
       "[4,\n",
       " 23,\n",
       " 45,\n",
       " 54,\n",
       " 56,\n",
       " 63,\n",
       " 143,\n",
       " 143,\n",
       " 199,\n",
       " 199,\n",
       " 399,\n",
       " 450,\n",
       " 651,\n",
       " 764,\n",
       " 1999,\n",
       " 2999,\n",
       " 39999]"
      ]
     },
     "execution_count": 39,
     "metadata": {},
     "output_type": "execute_result"
    }
   ],
   "source": [
    "li.sort()\n",
    "li"
   ]
  },
  {
   "cell_type": "code",
   "execution_count": 40,
   "id": "529c6e0f",
   "metadata": {},
   "outputs": [],
   "source": [
    "li_test=[34,56,5,344,35,465,65,44,544,54,64]\n",
    "li_test.sort(reverse=True)"
   ]
  },
  {
   "cell_type": "code",
   "execution_count": 41,
   "id": "43dca0a7",
   "metadata": {},
   "outputs": [
    {
     "data": {
      "text/plain": [
       "[544, 465, 344, 65, 64, 56, 54, 44, 35, 34, 5]"
      ]
     },
     "execution_count": 41,
     "metadata": {},
     "output_type": "execute_result"
    }
   ],
   "source": [
    "li_test"
   ]
  },
  {
   "cell_type": "code",
   "execution_count": 42,
   "id": "90484b28",
   "metadata": {},
   "outputs": [
    {
     "data": {
      "text/plain": [
       "[544, 465, 344, 65, 64, 56, 54, 44, 35, 34]"
      ]
     },
     "execution_count": 42,
     "metadata": {},
     "output_type": "execute_result"
    }
   ],
   "source": [
    "li_test.pop()\n",
    "li_test"
   ]
  },
  {
   "cell_type": "code",
   "execution_count": 43,
   "id": "27847857",
   "metadata": {},
   "outputs": [
    {
     "data": {
      "text/plain": [
       "[544, 465, 344, 64, 56, 54, 44, 35, 34]"
      ]
     },
     "execution_count": 43,
     "metadata": {},
     "output_type": "execute_result"
    }
   ],
   "source": [
    "li_test.pop(3)\n",
    "li_test"
   ]
  },
  {
   "cell_type": "code",
   "execution_count": 44,
   "id": "a6d3929b",
   "metadata": {},
   "outputs": [],
   "source": [
    "def second_large(li):\n",
    "    li.sort()\n",
    "    return li[-2]"
   ]
  },
  {
   "cell_type": "code",
   "execution_count": 45,
   "id": "14ac2cae",
   "metadata": {},
   "outputs": [
    {
     "data": {
      "text/plain": [
       "2999"
      ]
     },
     "execution_count": 45,
     "metadata": {},
     "output_type": "execute_result"
    }
   ],
   "source": [
    "second_large(li)"
   ]
  },
  {
   "cell_type": "code",
   "execution_count": 46,
   "id": "071e3f28",
   "metadata": {},
   "outputs": [
    {
     "data": {
      "text/plain": [
       "23"
      ]
     },
     "execution_count": 46,
     "metadata": {},
     "output_type": "execute_result"
    }
   ],
   "source": [
    "def second_least(li):\n",
    "    li.sort()\n",
    "    return li[1]\n",
    "second_least(li)"
   ]
  },
  {
   "cell_type": "code",
   "execution_count": 47,
   "id": "e6480dcd",
   "metadata": {},
   "outputs": [
    {
     "data": {
      "text/plain": [
       "1999"
      ]
     },
     "execution_count": 47,
     "metadata": {},
     "output_type": "execute_result"
    }
   ],
   "source": [
    "def generic_large(li,key):\n",
    "    li.sort(reverse=True)\n",
    "    return li[key-1]\n",
    "generic_large(li,3)"
   ]
  },
  {
   "cell_type": "code",
   "execution_count": 52,
   "id": "939ecc28",
   "metadata": {},
   "outputs": [
    {
     "data": {
      "text/plain": [
       "[39999, 2999, 1999, 764, 651, 450, 399, 199, 143, 143, 63, 56, 54, 45, 23, 4]"
      ]
     },
     "execution_count": 52,
     "metadata": {},
     "output_type": "execute_result"
    }
   ],
   "source": [
    "li.remove(199)\n",
    "li"
   ]
  },
  {
   "cell_type": "code",
   "execution_count": 53,
   "id": "3b2b8d47",
   "metadata": {},
   "outputs": [
    {
     "data": {
      "text/plain": [
       "[]"
      ]
     },
     "execution_count": 53,
     "metadata": {},
     "output_type": "execute_result"
    }
   ],
   "source": [
    "li.clear()\n",
    "li"
   ]
  },
  {
   "cell_type": "code",
   "execution_count": null,
   "id": "6eb46af3",
   "metadata": {},
   "outputs": [],
   "source": []
  }
 ],
 "metadata": {
  "kernelspec": {
   "display_name": "Python 3",
   "language": "python",
   "name": "python3"
  },
  "language_info": {
   "codemirror_mode": {
    "name": "ipython",
    "version": 3
   },
   "file_extension": ".py",
   "mimetype": "text/x-python",
   "name": "python",
   "nbconvert_exporter": "python",
   "pygments_lexer": "ipython3",
   "version": "3.8.8"
  }
 },
 "nbformat": 4,
 "nbformat_minor": 5
}
