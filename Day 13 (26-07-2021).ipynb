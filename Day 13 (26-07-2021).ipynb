{
 "cells": [
  {
   "cell_type": "markdown",
   "id": "00fa480e",
   "metadata": {},
   "source": [
    "## Strings and method functions"
   ]
  },
  {
   "cell_type": "code",
   "execution_count": 2,
   "id": "273bd90c",
   "metadata": {},
   "outputs": [
    {
     "name": "stdout",
     "output_type": "stream",
     "text": [
      "I am a  Python working as Developer\n"
     ]
    }
   ],
   "source": [
    "s1=\"Python\"\n",
    "s2=\"Developer\"\n",
    "print('I am a ',s1,'working as',s2)"
   ]
  },
  {
   "cell_type": "code",
   "execution_count": 4,
   "id": "a07a9220",
   "metadata": {},
   "outputs": [
    {
     "data": {
      "text/plain": [
       "'I am Python working as Engineer'"
      ]
     },
     "execution_count": 4,
     "metadata": {},
     "output_type": "execute_result"
    }
   ],
   "source": [
    "s1='I am {} working as {}'.format('Python','Engineer')\n",
    "s1"
   ]
  },
  {
   "cell_type": "code",
   "execution_count": 5,
   "id": "cfb7f499",
   "metadata": {},
   "outputs": [
    {
     "data": {
      "text/plain": [
       "'I am Python working as Tester'"
      ]
     },
     "execution_count": 5,
     "metadata": {},
     "output_type": "execute_result"
    }
   ],
   "source": [
    "s1='I am {0} working as {1}'.format('Python','Tester')\n",
    "s1"
   ]
  },
  {
   "cell_type": "code",
   "execution_count": 6,
   "id": "44c87bc6",
   "metadata": {},
   "outputs": [
    {
     "data": {
      "text/plain": [
       "'Test test'"
      ]
     },
     "execution_count": 6,
     "metadata": {},
     "output_type": "execute_result"
    }
   ],
   "source": [
    "def test():\n",
    "    s1=\"{0} {1}\".format('Test','test')\n",
    "    return s1\n",
    "test()"
   ]
  },
  {
   "cell_type": "code",
   "execution_count": 8,
   "id": "39d722ac",
   "metadata": {},
   "outputs": [
    {
     "data": {
      "text/plain": [
       "'Yor name is Vamshi and age is 21'"
      ]
     },
     "execution_count": 8,
     "metadata": {},
     "output_type": "execute_result"
    }
   ],
   "source": [
    "def test1(name,age):\n",
    "    person=\"Yor name is {0} and age is {1}\".format(name,age)\n",
    "    return person\n",
    "test1('Vamshi',21)"
   ]
  },
  {
   "cell_type": "code",
   "execution_count": 9,
   "id": "fb39fa18",
   "metadata": {},
   "outputs": [
    {
     "data": {
      "text/plain": [
       "['Vamshi', 'Surya', 'Mahesh', 'Uma']"
      ]
     },
     "execution_count": 9,
     "metadata": {},
     "output_type": "execute_result"
    }
   ],
   "source": [
    "li_names=['Vamshi','Surya','Mahesh','Uma']\n",
    "li_names"
   ]
  },
  {
   "cell_type": "code",
   "execution_count": 10,
   "id": "397f4d3b",
   "metadata": {},
   "outputs": [],
   "source": [
    "s1='#'.join(li_names)"
   ]
  },
  {
   "cell_type": "code",
   "execution_count": 11,
   "id": "147dd26d",
   "metadata": {},
   "outputs": [
    {
     "data": {
      "text/plain": [
       "'Vamshi#Surya#Mahesh#Uma'"
      ]
     },
     "execution_count": 11,
     "metadata": {},
     "output_type": "execute_result"
    }
   ],
   "source": [
    "s1"
   ]
  },
  {
   "cell_type": "code",
   "execution_count": 13,
   "id": "35a66042",
   "metadata": {},
   "outputs": [
    {
     "data": {
      "text/plain": [
       "['Vamshi', '29', 'Mahesh', '22']"
      ]
     },
     "execution_count": 13,
     "metadata": {},
     "output_type": "execute_result"
    }
   ],
   "source": [
    "li=['Vamshi', 29, 'Mahesh', 22]\n",
    "for i in range(len(li)):\n",
    "    li[i]=str(li[i])\n",
    "li"
   ]
  },
  {
   "cell_type": "code",
   "execution_count": 14,
   "id": "1f712d7c",
   "metadata": {},
   "outputs": [
    {
     "data": {
      "text/plain": [
       "'Vamshi#29#Mahesh#22'"
      ]
     },
     "execution_count": 14,
     "metadata": {},
     "output_type": "execute_result"
    }
   ],
   "source": [
    "user1=\"#\".join(li)\n",
    "user1"
   ]
  },
  {
   "cell_type": "markdown",
   "id": "ff600216",
   "metadata": {},
   "source": [
    "## Functions \n",
    "- isdigit()\n",
    "- isupper()\n",
    "- islower()\n",
    "- istitle()\n",
    "- isalpha()\n",
    "- isdecimal()\n",
    "- isspace()"
   ]
  },
  {
   "cell_type": "code",
   "execution_count": 15,
   "id": "4fe09858",
   "metadata": {},
   "outputs": [
    {
     "data": {
      "text/plain": [
       "True"
      ]
     },
     "execution_count": 15,
     "metadata": {},
     "output_type": "execute_result"
    }
   ],
   "source": [
    "s1='7'\n",
    "s1.isdigit()"
   ]
  },
  {
   "cell_type": "code",
   "execution_count": 16,
   "id": "6049f463",
   "metadata": {},
   "outputs": [
    {
     "data": {
      "text/plain": [
       "True"
      ]
     },
     "execution_count": 16,
     "metadata": {},
     "output_type": "execute_result"
    }
   ],
   "source": [
    "s1='a'\n",
    "s1.islower()"
   ]
  },
  {
   "cell_type": "code",
   "execution_count": 17,
   "id": "9a8eb3f7",
   "metadata": {},
   "outputs": [
    {
     "data": {
      "text/plain": [
       "False"
      ]
     },
     "execution_count": 17,
     "metadata": {},
     "output_type": "execute_result"
    }
   ],
   "source": [
    "s1='a'\n",
    "s1.isupper()"
   ]
  },
  {
   "cell_type": "code",
   "execution_count": 18,
   "id": "d9b6f02b",
   "metadata": {},
   "outputs": [
    {
     "data": {
      "text/plain": [
       "True"
      ]
     },
     "execution_count": 18,
     "metadata": {},
     "output_type": "execute_result"
    }
   ],
   "source": [
    "s1='B'\n",
    "s1.isupper()"
   ]
  },
  {
   "cell_type": "code",
   "execution_count": 19,
   "id": "fbc391e4",
   "metadata": {},
   "outputs": [
    {
     "data": {
      "text/plain": [
       "False"
      ]
     },
     "execution_count": 19,
     "metadata": {},
     "output_type": "execute_result"
    }
   ],
   "source": [
    "s1='B'\n",
    "s1.islower()"
   ]
  },
  {
   "cell_type": "code",
   "execution_count": 20,
   "id": "3d2d895f",
   "metadata": {},
   "outputs": [
    {
     "name": "stdout",
     "output_type": "stream",
     "text": [
      "True\n"
     ]
    }
   ],
   "source": [
    "s1='application'\n",
    "print(s1.islower())"
   ]
  },
  {
   "cell_type": "code",
   "execution_count": 21,
   "id": "cbc6a1ee",
   "metadata": {},
   "outputs": [
    {
     "name": "stdout",
     "output_type": "stream",
     "text": [
      "False\n"
     ]
    }
   ],
   "source": [
    "s1='application'\n",
    "print(s1.isupper())"
   ]
  },
  {
   "cell_type": "code",
   "execution_count": 22,
   "id": "6c5a1d77",
   "metadata": {},
   "outputs": [],
   "source": [
    "## count the number f upper and lower case\n",
    "def countalpha(stringi):\n",
    "    countup=0\n",
    "    countlow=0\n",
    "    for i in range(len(stringi)):\n",
    "        if stringi[i].islower():\n",
    "            countlow+=1\n",
    "        elif stringi[i].isupper():\n",
    "            countup+=1\n",
    "    op='Upper : {0} and Lower : {1}'.format(countup,countlow)\n",
    "    return op"
   ]
  },
  {
   "cell_type": "code",
   "execution_count": 24,
   "id": "1193c49c",
   "metadata": {},
   "outputs": [
    {
     "name": "stdout",
     "output_type": "stream",
     "text": [
      "MaHeSh SUrYa\n"
     ]
    },
    {
     "data": {
      "text/plain": [
       "'Upper : 6 and Lower : 5'"
      ]
     },
     "execution_count": 24,
     "metadata": {},
     "output_type": "execute_result"
    }
   ],
   "source": [
    "stringi=input()\n",
    "countalpha(stringi)"
   ]
  },
  {
   "cell_type": "code",
   "execution_count": 31,
   "id": "be0836be",
   "metadata": {},
   "outputs": [
    {
     "name": "stdout",
     "output_type": "stream",
     "text": [
      "puboif"
     ]
    }
   ],
   "source": [
    "def task_vow(name):\n",
    "    li=[]\n",
    "    for i in range(len(name)):\n",
    "        if name[i] in 'aeiou':\n",
    "            print(chr(ord(name[i])+1),end=\"\")\n",
    "        elif name[i]>='b' and name[i]<='d':\n",
    "            print('e',end='')\n",
    "        elif name[i]>='f' and name[i]<='h':\n",
    "            print('i',end='')\n",
    "        elif name[i]>='j' and name[i]<='n':\n",
    "            print('o',end='')\n",
    "        elif name[i]>='p' and name[i]<='t':\n",
    "            print('u',end='')\n",
    "        elif name[i]>='v' and name[i]<='z':\n",
    "            print('a',end='')\n",
    "    return\n",
    "name='orange'\n",
    "task_vow(name)"
   ]
  },
  {
   "cell_type": "code",
   "execution_count": null,
   "id": "ea3078f7",
   "metadata": {},
   "outputs": [],
   "source": [
    "## print\n",
    "/* \n",
    " *\n",
    " **\n",
    " ***\n",
    " ****\n",
    " *****\n",
    "*/"
   ]
  },
  {
   "cell_type": "code",
   "execution_count": 33,
   "id": "f0a90a6f",
   "metadata": {},
   "outputs": [
    {
     "name": "stdout",
     "output_type": "stream",
     "text": [
      "12345\n",
      "*\n",
      "**\n",
      "***\n",
      "****\n",
      "*****\n"
     ]
    }
   ],
   "source": [
    "n=input()\n",
    "for i in range(len(n)):\n",
    "    for j in range(0,i+1):\n",
    "        print(\"*\",end=\"\")\n",
    "    print(\"\\r\")"
   ]
  },
  {
   "cell_type": "code",
   "execution_count": null,
   "id": "23451828",
   "metadata": {},
   "outputs": [],
   "source": []
  }
 ],
 "metadata": {
  "kernelspec": {
   "display_name": "Python 3",
   "language": "python",
   "name": "python3"
  },
  "language_info": {
   "codemirror_mode": {
    "name": "ipython",
    "version": 3
   },
   "file_extension": ".py",
   "mimetype": "text/x-python",
   "name": "python",
   "nbconvert_exporter": "python",
   "pygments_lexer": "ipython3",
   "version": "3.8.8"
  }
 },
 "nbformat": 4,
 "nbformat_minor": 5
}
