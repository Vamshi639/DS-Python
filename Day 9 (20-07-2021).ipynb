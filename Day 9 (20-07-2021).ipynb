{
 "cells": [
  {
   "cell_type": "markdown",
   "id": "fab84395",
   "metadata": {},
   "source": [
    "## Sorting Algorithm"
   ]
  },
  {
   "cell_type": "code",
   "execution_count": 2,
   "id": "faecba32",
   "metadata": {},
   "outputs": [
    {
     "data": {
      "text/plain": [
       "[3, 4, 34, 35, 264, 532, 2135, 6543, 43654]"
      ]
     },
     "execution_count": 2,
     "metadata": {},
     "output_type": "execute_result"
    }
   ],
   "source": [
    "## Bubble Sort\n",
    "def bubble_sort(li):\n",
    "    n=len(li)\n",
    "    for i in range(n-1):\n",
    "        for j in range(n-1):\n",
    "            if li[j]>li[j+1]:\n",
    "                li[j],li[j+1]=li[j+1],li[j]\n",
    "    return li\n",
    "li=[34,35,2135,43654,264,3,532,4,6543]\n",
    "bubble_sort(li)"
   ]
  },
  {
   "cell_type": "markdown",
   "id": "b959d30c",
   "metadata": {},
   "source": [
    "## Selection Sort"
   ]
  },
  {
   "cell_type": "code",
   "execution_count": 3,
   "id": "440b2d35",
   "metadata": {},
   "outputs": [
    {
     "data": {
      "text/plain": [
       "[4, 5, 6, 24, 44, 45, 53, 53, 55, 4433, 5434, 342423, 3423443]"
      ]
     },
     "execution_count": 3,
     "metadata": {},
     "output_type": "execute_result"
    }
   ],
   "source": [
    "# selection sort\n",
    "def selection_sort(li):\n",
    "    n=len(li)\n",
    "    for i in range(n):\n",
    "        k=i\n",
    "        for j in range(i+1,n):\n",
    "            if li[k] > li[j]:\n",
    "                k=j\n",
    "        li[i],li[k]=li[k],li[i]\n",
    "    return li\n",
    "li=[342423,5,5434,53,44,4433,24,55,4,53,45,3423443,6]\n",
    "selection_sort(li)"
   ]
  },
  {
   "cell_type": "code",
   "execution_count": 11,
   "id": "f4797a7e",
   "metadata": {},
   "outputs": [
    {
     "data": {
      "text/plain": [
       "[2, 4, 5, 35, 435, 453, 4354, 4634]"
      ]
     },
     "execution_count": 11,
     "metadata": {},
     "output_type": "execute_result"
    }
   ],
   "source": [
    "# insertion sort\n",
    "def insertion(li):\n",
    "    n=len(li)\n",
    "    for i in range(1,n):\n",
    "        k=li[i]\n",
    "        j=i-1\n",
    "        while j>=0 and k<li[j]:\n",
    "            li[j+1]=li[j]\n",
    "            j-=1\n",
    "        li[j+1]=k\n",
    "    return li\n",
    "li=[435,453,2,4,4354,35,5,4634]\n",
    "insertion(li)"
   ]
  },
  {
   "cell_type": "code",
   "execution_count": null,
   "id": "496116ea",
   "metadata": {},
   "outputs": [],
   "source": []
  }
 ],
 "metadata": {
  "kernelspec": {
   "display_name": "Python 3",
   "language": "python",
   "name": "python3"
  },
  "language_info": {
   "codemirror_mode": {
    "name": "ipython",
    "version": 3
   },
   "file_extension": ".py",
   "mimetype": "text/x-python",
   "name": "python",
   "nbconvert_exporter": "python",
   "pygments_lexer": "ipython3",
   "version": "3.8.8"
  }
 },
 "nbformat": 4,
 "nbformat_minor": 5
}
