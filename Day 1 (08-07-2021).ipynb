{
 "cells": [
  {
   "cell_type": "markdown",
   "id": "9715a35e",
   "metadata": {},
   "source": [
    "# Heading"
   ]
  },
  {
   "cell_type": "markdown",
   "id": "7c9bc368",
   "metadata": {},
   "source": [
    "# Heading\n",
    "## Heading 2\n",
    "### Heading 3\n",
    "#### Heading 4"
   ]
  },
  {
   "cell_type": "markdown",
   "id": "9e29fa5d",
   "metadata": {},
   "source": [
    "- Point 1\n",
    "- Point 2\n",
    "- Point 3\n",
    "- Point 4\n",
    "- Point 5"
   ]
  },
  {
   "cell_type": "markdown",
   "id": "83c94596",
   "metadata": {},
   "source": [
    "1. Point 1\n",
    "2. Point 2\n",
    "3. Point 3"
   ]
  },
  {
   "cell_type": "markdown",
   "id": "acb265c9",
   "metadata": {},
   "source": [
    "- Point 1\n",
    "    - Point 1.1\n",
    "    - Point 1.2\n",
    "    - Point 1.3\n",
    "- Point 2\n",
    "    - Point 2.1\n",
    "    - Point 2.2\n",
    "    - Point 2.3"
   ]
  },
  {
   "cell_type": "markdown",
   "id": "d97e28cb",
   "metadata": {},
   "source": [
    "- Point 1\n",
    "    - Point 1.1\n",
    "        - Point 1.1.1\n",
    "        - Point 1.1.2\n",
    "        - Point 1.1.3\n",
    "    - Point 1.2\n",
    "        - Point 1.2.1\n",
    "        - Point 1.2.2\n",
    "        - Point 1.2.3\n",
    "    - Point 1.3\n",
    "- Point 2\n",
    "    - Point 2.1\n",
    "    - Point 2.2\n",
    "    - Point 2.3"
   ]
  },
  {
   "cell_type": "markdown",
   "id": "65775492",
   "metadata": {},
   "source": [
    "I am **Vamshi** from GITAM"
   ]
  },
  {
   "cell_type": "markdown",
   "id": "cf736694",
   "metadata": {},
   "source": [
    "Hi *Vamshi* this is Italic"
   ]
  },
  {
   "cell_type": "markdown",
   "id": "6f5000b5",
   "metadata": {},
   "source": [
    "Hi Vamshi you used ***both italic and bold*** successfully"
   ]
  },
  {
   "cell_type": "markdown",
   "id": "17bc15d2",
   "metadata": {},
   "source": [
    "### Adding Link to a Word\n",
    "(Dhyanahitha) [https://www.dhyanahitha.com/]"
   ]
  },
  {
   "cell_type": "markdown",
   "id": "292e93cd",
   "metadata": {},
   "source": [
    "### Add images to Jupyter\n",
    "<img src='pinknature.jpg' height='250px' width='250px' />"
   ]
  },
  {
   "cell_type": "markdown",
   "id": "2371379a",
   "metadata": {},
   "source": [
    "### Adding Image using python Syntax\n",
    "![python logo](pinknature.jpg)"
   ]
  },
  {
   "cell_type": "code",
   "execution_count": 3,
   "id": "ce1cdfb8",
   "metadata": {},
   "outputs": [
    {
     "data": {
      "text/plain": [
       "'C:\\\\Users\\\\vamsh\\\\Vamshi DataScience\\\\Dhyanhitha'"
      ]
     },
     "execution_count": 3,
     "metadata": {},
     "output_type": "execute_result"
    }
   ],
   "source": [
    "pwd"
   ]
  },
  {
   "cell_type": "code",
   "execution_count": null,
   "id": "065dcf9f",
   "metadata": {},
   "outputs": [],
   "source": []
  }
 ],
 "metadata": {
  "kernelspec": {
   "display_name": "Python 3",
   "language": "python",
   "name": "python3"
  },
  "language_info": {
   "codemirror_mode": {
    "name": "ipython",
    "version": 3
   },
   "file_extension": ".py",
   "mimetype": "text/x-python",
   "name": "python",
   "nbconvert_exporter": "python",
   "pygments_lexer": "ipython3",
   "version": "3.8.8"
  }
 },
 "nbformat": 4,
 "nbformat_minor": 5
}
