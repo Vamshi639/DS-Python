{
 "cells": [
  {
   "cell_type": "markdown",
   "id": "67760281",
   "metadata": {},
   "source": [
    "## List"
   ]
  },
  {
   "cell_type": "code",
   "execution_count": 5,
   "id": "710d6615",
   "metadata": {},
   "outputs": [
    {
     "name": "stdout",
     "output_type": "stream",
     "text": [
      "1 2 3 4 "
     ]
    }
   ],
   "source": [
    "li=[1,2,3,4]\n",
    "for i in range(len(li)):\n",
    "    print(li[i],end=\" \")"
   ]
  },
  {
   "cell_type": "code",
   "execution_count": 6,
   "id": "153c7d23",
   "metadata": {},
   "outputs": [
    {
     "name": "stdout",
     "output_type": "stream",
     "text": [
      "1 2 3 4 "
     ]
    }
   ],
   "source": [
    "li=['1','2','3','4']\n",
    "for i in range(len(li)):\n",
    "    print(li[i],end=\" \")"
   ]
  },
  {
   "cell_type": "code",
   "execution_count": 7,
   "id": "6cfe403a",
   "metadata": {},
   "outputs": [
    {
     "data": {
      "text/plain": [
       "[2, 4, 6, 8, 10]"
      ]
     },
     "execution_count": 7,
     "metadata": {},
     "output_type": "execute_result"
    }
   ],
   "source": [
    "## filter the even numbers\n",
    "def printevenum(li):\n",
    "    op=[]\n",
    "    for i in range(len(li)):\n",
    "        if li[i]%2==0:\n",
    "            op.append(li[i])\n",
    "    return op\n",
    "li=[1,2,3,4,5,6,7,8,9,10]\n",
    "printevenum(li)"
   ]
  },
  {
   "cell_type": "code",
   "execution_count": 11,
   "id": "fe3afb0a",
   "metadata": {},
   "outputs": [
    {
     "name": "stdout",
     "output_type": "stream",
     "text": [
      "7\n",
      "1\n",
      "2\n",
      "3\n",
      "4\n",
      "5\n",
      "6\n",
      "7\n"
     ]
    },
    {
     "data": {
      "text/plain": [
       "[1, 2, 3, 4, 5, 6, 7]"
      ]
     },
     "execution_count": 11,
     "metadata": {},
     "output_type": "execute_result"
    }
   ],
   "source": [
    "size=int(input())\n",
    "li=[]\n",
    "for i in range(size):\n",
    "    ele=int(input())\n",
    "    li.append(ele)\n",
    "li"
   ]
  },
  {
   "cell_type": "code",
   "execution_count": 16,
   "id": "51b8b46a",
   "metadata": {},
   "outputs": [
    {
     "name": "stdout",
     "output_type": "stream",
     "text": [
      "1 2 3 4 5 6 7\n",
      "1 2 3 4 5 6 7 "
     ]
    }
   ],
   "source": [
    "input_1=input()\n",
    "li=list(input_1.split())\n",
    "li\n",
    "for i in range(len(li)):\n",
    "    print(li[i],end=\" \")"
   ]
  },
  {
   "cell_type": "code",
   "execution_count": 18,
   "id": "7eb7c853",
   "metadata": {},
   "outputs": [
    {
     "data": {
      "text/plain": [
       "3"
      ]
     },
     "execution_count": 18,
     "metadata": {},
     "output_type": "execute_result"
    }
   ],
   "source": [
    "## filter the repeating number count\n",
    "def number_count(li,number):\n",
    "    count=0\n",
    "    for i in range(len(li)):\n",
    "        if li[i]==number:\n",
    "            count+=1\n",
    "    return count\n",
    "li=[56,34,56,32,79,436,65,35,1,546,65,34,345,63,65]\n",
    "number_count(li,65)"
   ]
  },
  {
   "cell_type": "markdown",
   "id": "5537c335",
   "metadata": {},
   "source": [
    "## Algorithms"
   ]
  },
  {
   "cell_type": "code",
   "execution_count": 21,
   "id": "86fe4abd",
   "metadata": {},
   "outputs": [
    {
     "name": "stdout",
     "output_type": "stream",
     "text": [
      "Enter a  number to search : 598\n"
     ]
    },
    {
     "data": {
      "text/plain": [
       "'Element is not found'"
      ]
     },
     "execution_count": 21,
     "metadata": {},
     "output_type": "execute_result"
    }
   ],
   "source": [
    "## linear search\n",
    "def linear_search(li,number):\n",
    "    flag=False\n",
    "    for i in range(len(li)):\n",
    "        if li[i]==number:\n",
    "            flag=True\n",
    "            break\n",
    "    if flag==True:\n",
    "        return \"Element is Found\"\n",
    "    else:\n",
    "        return \"Element is not found\"\n",
    "number=int(input(\"Enter a  number to search : \"))\n",
    "li=[23,65,67,45,84,566,8,43,6556,7,78,9767,56]\n",
    "linear_search(li,number)"
   ]
  },
  {
   "cell_type": "code",
   "execution_count": 25,
   "id": "980243d2",
   "metadata": {},
   "outputs": [
    {
     "name": "stdout",
     "output_type": "stream",
     "text": [
      "Enter a  number to search : 7\n"
     ]
    },
    {
     "data": {
      "text/plain": [
       "[10, 13]"
      ]
     },
     "execution_count": 25,
     "metadata": {},
     "output_type": "execute_result"
    }
   ],
   "source": [
    "## linear search with position of the number\n",
    "def linear_search(li,number):\n",
    "    flag=False\n",
    "    pos=[]\n",
    "    for i in range(len(li)):\n",
    "        if li[i]==number:\n",
    "            flag=True\n",
    "            pos.append(i+1)\n",
    "    if flag==True:\n",
    "        return pos\n",
    "    else:\n",
    "        return \"Element is not found\"\n",
    "number=int(input(\"Enter a  number to search : \"))\n",
    "li=[23,65,67,45,84,566,8,43,6556,7,78,9767,7,56]\n",
    "linear_search(li,number)"
   ]
  },
  {
   "cell_type": "code",
   "execution_count": 44,
   "id": "3c3f6cb6",
   "metadata": {},
   "outputs": [
    {
     "name": "stdout",
     "output_type": "stream",
     "text": [
      "8\n"
     ]
    },
    {
     "data": {
      "text/plain": [
       "6"
      ]
     },
     "execution_count": 44,
     "metadata": {},
     "output_type": "execute_result"
    }
   ],
   "source": [
    "##Binary Search\n",
    "def binary_search(li,key):\n",
    "    lindex=0\n",
    "    rindex=len(li)-1\n",
    "    while lindex<=rindex:\n",
    "        mindex=lindex+(rindex-lindex)//2\n",
    "        if li[mindex]==key:\n",
    "            return mindex\n",
    "        if li[mindex]<key:\n",
    "            rindex=mindex-1\n",
    "        else:\n",
    "            rindex=mindex+1\n",
    "    return -1\n",
    "li=[23,65,67,45,84,566,8,43,6556,7,78,9767,7,56]\n",
    "key=int(input())\n",
    "binary_search(li,key)\n"
   ]
  },
  {
   "cell_type": "code",
   "execution_count": null,
   "id": "7bdadc54",
   "metadata": {},
   "outputs": [],
   "source": []
  }
 ],
 "metadata": {
  "kernelspec": {
   "display_name": "Python 3",
   "language": "python",
   "name": "python3"
  },
  "language_info": {
   "codemirror_mode": {
    "name": "ipython",
    "version": 3
   },
   "file_extension": ".py",
   "mimetype": "text/x-python",
   "name": "python",
   "nbconvert_exporter": "python",
   "pygments_lexer": "ipython3",
   "version": "3.8.8"
  }
 },
 "nbformat": 4,
 "nbformat_minor": 5
}
